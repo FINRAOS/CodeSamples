{
 "cells": [
  {
   "cell_type": "code",
   "execution_count": 2,
   "metadata": {},
   "outputs": [
    {
     "name": "stdout",
     "output_type": "stream",
     "text": [
      "Marking org.finra.megasparkdiff:mega-spark-diff:0.2.1 for download\n",
      "Obtained 2 files\n"
     ]
    }
   ],
   "source": [
    "%AddDeps org.finra.megasparkdiff mega-spark-diff 0.2.1"
   ]
  },
  {
   "cell_type": "code",
   "execution_count": 3,
   "metadata": {},
   "outputs": [],
   "source": [
    "import org.finra.msd.sparkfactory.SparkFactory\n",
    "import org.finra.msd.visualization.Visualizer"
   ]
  },
  {
   "cell_type": "code",
   "execution_count": 4,
   "metadata": {},
   "outputs": [],
   "source": [
    "SparkFactory.initializeDataBricks(spark)"
   ]
  },
  {
   "cell_type": "code",
   "execution_count": 8,
   "metadata": {},
   "outputs": [
    {
     "data": {
      "text/plain": [
       "left = [key1: string, key2: string ... 2 more fields]\n",
       "right = [key1: string, key2: string ... 2 more fields]\n"
      ]
     },
     "metadata": {},
     "output_type": "display_data"
    },
    {
     "data": {
      "text/plain": [
       "[key1: string, key2: string ... 2 more fields]"
      ]
     },
     "execution_count": 8,
     "metadata": {},
     "output_type": "execute_result"
    }
   ],
   "source": [
    "val left = Seq(\n",
    "  (\"1\", \"1\" , \"Adam\" ,\"Andreson\"),\n",
    "  (\"2\",\"2\",\"Bob\",\"Branson\"),\n",
    "  (\"4\",\"4\",\"Chad\",\"Charly\"),\n",
    "  (\"5\",\"5\",\"Joe\",\"Smith\"),\n",
    "  (\"5\",\"5\",\"Joe\",\"Smith\"),\n",
    "  (\"6\",\"6\",\"Edward\",\"Eddy\"),\n",
    "  (\"7\",\"7\",\"normal\",\"normal\")\n",
    ").toDF(\"key1\" , \"key2\" , \"value1\" , \"value2\")\n",
    "\n",
    "val right   = Seq(\n",
    "  (\"3\",\"3\",\"Young\",\"Yan\"),\n",
    "  (\"5\",\"5\",\"Joe\",\"Smith\"),\n",
    "  (\"6\",\"6\",\"Edward\",\"Eddy\"),\n",
    "  (\"7\",\"7\",\"normal\",\"normal\"),\n",
    "  (null,null,\"null key\",\"null key\")\n",
    ").toDF(\"key1\" , \"key2\", \"value1\" , \"value2\")"
   ]
  },
  {
   "cell_type": "code",
   "execution_count": 9,
   "metadata": {},
   "outputs": [
    {
     "name": "stdout",
     "output_type": "stream",
     "text": [
      "+----+----+------+--------+\n",
      "|key1|key2|value1|value2  |\n",
      "+----+----+------+--------+\n",
      "|1   |1   |Adam  |Andreson|\n",
      "|2   |2   |Bob   |Branson |\n",
      "|4   |4   |Chad  |Charly  |\n",
      "|5   |5   |Joe   |Smith   |\n",
      "|5   |5   |Joe   |Smith   |\n",
      "|6   |6   |Edward|Eddy    |\n",
      "|7   |7   |normal|normal  |\n",
      "+----+----+------+--------+\n",
      "\n"
     ]
    }
   ],
   "source": [
    "left.show(false)"
   ]
  },
  {
   "cell_type": "code",
   "execution_count": 12,
   "metadata": {},
   "outputs": [
    {
     "data": {
      "text/plain": [
       "         ...\n"
      ]
     },
     "metadata": {},
     "output_type": "display_data"
    },
    {
     "data": {
      "text/html": [
       "\n",
       "<!DOCTYPE html>\n",
       "<html>\n",
       "<head>\n",
       "    <meta charset=\"utf-8\">\n",
       "    <style>\n",
       "                body {\n",
       "                  font: 13px Lato, sans-serif;\n",
       "                  font-weight: lighter;\n",
       "                  transform: scale(1) !important;\n",
       "                }\n",
       "\n",
       "                table, tr, th, td {\n",
       "                  margin: 0 auto;\n",
       "                  max-width: 95%;\n",
       "                  border:1px solid black;\n",
       "                  padding: 5px;\n",
       "                  text-align: center;\n",
       "                }\n",
       "\n",
       "                th, td {\n",
       "                  min-width: 60px;\n",
       "                }\n",
       "\n",
       "                table {\n",
       "                  margin-top: 30px;\n",
       "                  border-collapse: collapse;\n",
       "                }\n",
       "\n",
       "                th {\n",
       "                  background: #65BDF0;\n",
       "                  font: 12px Lato, sans-serif;\n",
       "                }\n",
       "\n",
       "                td.different {\n",
       "                  background: yellow;\n",
       "                }\n",
       "\n",
       "                td.same td {\n",
       "                  background: white;\n",
       "                }\n",
       "\n",
       "    </style>\n",
       "</head>\n",
       "<body>\n",
       "<table><tr><th>key1</th><th>key2</th><th>value1</th><th>value2</th></tr>\n",
       "<tr><td class='same'>1</td><td class='same'>1</td><td class='same'>Adam</td><td class='same'>Andreson</td></tr>\n",
       "<tr><td class='same'>2</td><td class='same'>2</td><td class='same'>Bob</td><td class='same'>Branson</td></tr>\n",
       "<tr><td class='same'>4</td><td class='same'>4</td><td class='same'>Chad</td><td class='same'>Charly</td></tr>\n",
       "<tr><td class='same'>5</td><td class='same'>5</td><td class='same'>Joe</td><td class='same'>Smith</td></tr>\n",
       "<tr><td class='same'>5</td><td class='same'>5</td><td class='same'>Joe</td><td class='same'>Smith</td></tr>\n",
       "<tr><td class='same'>6</td><td class='same'>6</td><td class='same'>Edward</td><td class='same'>Eddy</td></tr>\n",
       "<tr><td class='same'>7</td><td class='same'>7</td><td class='same'>normal</td><td class='same'>normal</td></tr>\n",
       "</table>\n",
       "</body>\n",
       "</html>\n",
       "     "
      ]
     },
     "execution_count": 12,
     "metadata": {},
     "output_type": "execute_result"
    }
   ],
   "source": [
    "kernel.magics.html(Visualizer.renderHorizontalTable(left , 100))"
   ]
  },
  {
   "cell_type": "code",
   "execution_count": null,
   "metadata": {},
   "outputs": [],
   "source": []
  }
 ],
 "metadata": {
  "kernelspec": {
   "display_name": "Apache Toree - Scala",
   "language": "scala",
   "name": "apache_toree_scala"
  },
  "language_info": {
   "codemirror_mode": "text/x-scala",
   "file_extension": ".scala",
   "mimetype": "text/x-scala",
   "name": "scala",
   "pygments_lexer": "scala",
   "version": "2.11.12"
  }
 },
 "nbformat": 4,
 "nbformat_minor": 2
}
