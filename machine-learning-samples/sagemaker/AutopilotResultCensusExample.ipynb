{
 "cells": [
  {
   "cell_type": "code",
   "execution_count": null,
   "metadata": {},
   "outputs": [],
   "source": [
    "import boto3\n",
    "from sagemaker import get_execution_role\n",
    "\n",
    "role = get_execution_role()\n",
    "\n",
    "region = boto3.Session().region_name\n",
    "\n",
    "# Enter the s3 bucket and path where you want to store the training and test data\n",
    "bucket = 'bucket'\n",
    "prefix = 'prefix'\n",
    "bucket_path = 'https://s3-{}.amazonaws.com/{}'.format(region,bucket)"
   ]
  },
  {
   "cell_type": "code",
   "execution_count": null,
   "metadata": {},
   "outputs": [],
   "source": [
    "import urllib.request\n",
    "\n",
    "# Get the test data set\n",
    "# This data was originally obtained from Data retrieved from https://archive.ics.uci.edu/ml/datasets/Census+Income\n",
    "urllib.request.urlretrieve(\"https://raw.githubusercontent.com/FINRAOS/CodeSamples/master/machine-learning-samples/src/main/resources/adult.test\", \"adult.test\")"
   ]
  },
  {
   "cell_type": "code",
   "execution_count": null,
   "metadata": {},
   "outputs": [],
   "source": [
    "# List of the field names for the data set\n",
    "fields = [\n",
    "    'age',\n",
    "    'workclass',\n",
    "    'fnlwgt',\n",
    "    'education',\n",
    "    'education-num',\n",
    "    'marital-status',\n",
    "    'occupation',\n",
    "    'relationship',\n",
    "    'race',\n",
    "    'sex',\n",
    "    'capital-gain',\n",
    "    'capital-loss',\n",
    "    'hours-per-week',\n",
    "    'native-country'\n",
    "]\n",
    "\n",
    "# Set indexes for categorical and continuous field types\n",
    "categoricalFieldIndexes = [1, 3, 5, 6, 7, 8, 9, 13]\n",
    "continuousFieldIndexes = [0, 2, 4, 10, 11, 12]"
   ]
  },
  {
   "cell_type": "code",
   "execution_count": null,
   "metadata": {},
   "outputs": [],
   "source": [
    "import pandas as pd\n",
    "\n",
    "# Load the data set into a dataframe and format it\n",
    "def load_and_format_data(csv_name):\n",
    "    df = pd.read_csv(csv_name, header=None, names=fields + ['label'])\n",
    "\n",
    "    df = df.reindex(columns=['label'] + fields)\n",
    "\n",
    "    df.replace(regex='^ ', value = '', inplace=True)\n",
    "    df.replace({'label' : '\\.$'}, {'label' : ''}, regex=True, inplace=True)\n",
    "    \n",
    "    return df\n",
    "\n",
    "test_data = load_and_format_data('adult.test')"
   ]
  },
  {
   "cell_type": "code",
   "execution_count": null,
   "metadata": {},
   "outputs": [],
   "source": [
    "from sagemaker.predictor import RealTimePredictor\n",
    "\n",
    "# Add the endpoint name\n",
    "endpoint = 'endpoint'\n",
    "\n",
    "predictor = RealTimePredictor(endpoint, content_type='text/csv')"
   ]
  },
  {
   "cell_type": "code",
   "execution_count": null,
   "metadata": {},
   "outputs": [],
   "source": [
    "count = 0\n",
    "index = 0\n",
    "\n",
    "labels = test_data['label'].to_list()\n",
    "\n",
    "# Check the endpoint result against the test data label for each row\n",
    "for row in test_data.drop(columns=['label']).to_csv(header=None, index=False).splitlines():\n",
    "    result = str(predictor.predict(row).rstrip(), 'utf-8')\n",
    "\n",
    "    if labels[index] != result:\n",
    "        count = count + 1\n",
    "        \n",
    "    index = index + 1\n",
    "\n",
    "print('Test error rate: {}'.format(count / len(test_data['label'])))"
   ]
  }
 ],
 "metadata": {
  "kernelspec": {
   "display_name": "Python 3 (Data Science)",
   "language": "python",
   "name": "python3__SAGEMAKER_INTERNAL__arn:aws:sagemaker:us-east-2:429704687514:environment/datascience"
  },
  "language_info": {
   "codemirror_mode": {
    "name": "ipython",
    "version": 3
   },
   "file_extension": ".py",
   "mimetype": "text/x-python",
   "name": "python",
   "nbconvert_exporter": "python",
   "pygments_lexer": "ipython3",
   "version": "3.7.6"
  }
 },
 "nbformat": 4,
 "nbformat_minor": 4
}
