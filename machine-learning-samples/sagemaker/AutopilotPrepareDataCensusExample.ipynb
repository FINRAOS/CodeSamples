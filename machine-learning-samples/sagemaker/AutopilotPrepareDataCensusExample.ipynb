{
 "cells": [
  {
   "cell_type": "code",
   "execution_count": null,
   "metadata": {},
   "outputs": [],
   "source": [
    "import boto3\n",
    "from sagemaker import get_execution_role\n",
    "\n",
    "role = get_execution_role()\n",
    "\n",
    "region = boto3.Session().region_name\n",
    "\n",
    "# Enter the s3 bucket and path where you want to store the training and test data\n",
    "bucket = 'bucket'\n",
    "prefix = 'prefix'\n",
    "bucket_path = 'https://s3-{}.amazonaws.com/{}'.format(region,bucket)"
   ]
  },
  {
   "cell_type": "code",
   "execution_count": null,
   "metadata": {},
   "outputs": [],
   "source": [
    "import urllib.request\n",
    "\n",
    "# Get the training data set\n",
    "# This data was originally obtained from Data retrieved from https://archive.ics.uci.edu/ml/datasets/Census+Income\n",
    "urllib.request.urlretrieve(\"https://raw.githubusercontent.com/FINRAOS/CodeSamples/master/machine-learning-samples/src/main/resources/adult.data\", \"adult.data\")"
   ]
  },
  {
   "cell_type": "code",
   "execution_count": null,
   "metadata": {},
   "outputs": [],
   "source": [
    "# List of the field names for the data set\n",
    "fields = [\n",
    "    'age',\n",
    "    'workclass',\n",
    "    'fnlwgt',\n",
    "    'education',\n",
    "    'education-num',\n",
    "    'marital-status',\n",
    "    'occupation',\n",
    "    'relationship',\n",
    "    'race',\n",
    "    'sex',\n",
    "    'capital-gain',\n",
    "    'capital-loss',\n",
    "    'hours-per-week',\n",
    "    'native-country'\n",
    "]\n",
    "\n",
    "# Set indexes for categorical and continuous field types\n",
    "categoricalFieldIndexes = [1, 3, 5, 6, 7, 8, 9, 13]\n",
    "continuousFieldIndexes = [0, 2, 4, 10, 11, 12]"
   ]
  },
  {
   "cell_type": "code",
   "execution_count": null,
   "metadata": {},
   "outputs": [],
   "source": [
    "import pandas as pd\n",
    "\n",
    "# Load the data set into a dataframe and format it\n",
    "def load_and_format_data(csv_name):\n",
    "    df = pd.read_csv(csv_name, header=None, names=fields + ['label'])\n",
    "\n",
    "    df = df.reindex(columns=['label'] + fields)\n",
    "\n",
    "    df.replace(regex='^ ', value = '', inplace=True)\n",
    "    df.replace({'label' : '\\.$'}, {'label' : ''}, regex=True, inplace=True)\n",
    "    \n",
    "    return df\n",
    "\n",
    "train_data = load_and_format_data('adult.data')"
   ]
  },
  {
   "cell_type": "code",
   "execution_count": null,
   "metadata": {},
   "outputs": [],
   "source": [
    "# Display first ten rows of training set\n",
    "train_data.head(10)"
   ]
  },
  {
   "cell_type": "code",
   "execution_count": null,
   "metadata": {},
   "outputs": [],
   "source": [
    "# Display first ten rows of test set without label\n",
    "test_data.drop(columns=['label']).head(10)"
   ]
  },
  {
   "cell_type": "code",
   "execution_count": null,
   "metadata": {},
   "outputs": [],
   "source": [
    "# Export dataframes to CSV (test data)\n",
    "train_data.to_csv(path_or_buf='train.csv', index=False)\n",
    "test_data.drop(columns=['label']).to_csv(path_or_buf='test.csv', index=False)"
   ]
  },
  {
   "cell_type": "code",
   "execution_count": null,
   "metadata": {},
   "outputs": [],
   "source": [
    "# Upload CSV to S3\n",
    "key = '{}/{}/data.csv'.format(prefix, 'train')\n",
    "boto3.Session().resource('s3').Bucket(bucket).Object(key).upload_file('{}.csv'.format('train'))"
   ]
  }
 ],
 "metadata": {
  "kernelspec": {
   "display_name": "Python 3 (Data Science)",
   "language": "python",
   "name": "python3__SAGEMAKER_INTERNAL__arn:aws:sagemaker:us-east-2:429704687514:environment/datascience"
  },
  "language_info": {
   "codemirror_mode": {
    "name": "ipython",
    "version": 3
   },
   "file_extension": ".py",
   "mimetype": "text/x-python",
   "name": "python",
   "nbconvert_exporter": "python",
   "pygments_lexer": "ipython3",
   "version": "3.7.6"
  }
 },
 "nbformat": 4,
 "nbformat_minor": 4
}
